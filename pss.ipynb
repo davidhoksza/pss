{
 "cells": [
  {
   "cell_type": "code",
   "execution_count": 1,
   "metadata": {
    "pycharm": {
     "name": "#%%\n"
    }
   },
   "outputs": [
    {
     "data": {
      "application/vnd.jupyter.widget-view+json": {
       "model_id": "0f83b433256648e1b15f157d7c1fe4e3",
       "version_major": 2,
       "version_minor": 0
      },
      "text/plain": []
     },
     "metadata": {},
     "output_type": "display_data"
    }
   ],
   "source": [
    "import nglview as nv\n",
    "from Bio.PDB.MMCIFParser import MMCIFParser\n",
    "from Bio.PDB.PDBList import PDBList\n",
    "from Bio.PDB.Polypeptide import three_to_one\n",
    "from Bio import Align\n",
    "from Bio.Align import substitution_matrices\n",
    "import Bio\n",
    "import sys\n",
    "\n",
    "def get_sequence(residues):\n",
    "    return ''.join(three_to_one(r.get_resname()) for r in residues)\n",
    "\n",
    "def get_residues(structure, chain):\n",
    "    return [r for r in structure[0][chain].get_residues() if r.id[0] == ' ']"
   ]
  },
  {
   "cell_type": "code",
   "execution_count": 10,
   "metadata": {
    "pycharm": {
     "name": "#%%\n"
    }
   },
   "outputs": [],
   "source": [
    "def superpose(pdb_ids, viewer, chain_ids = [None, None]):\n",
    "\n",
    "    pdbl = PDBList()\n",
    "    parser = MMCIFParser()\n",
    "    \n",
    "    structures = [None, None]\n",
    "    chains = [[],[]]\n",
    "    for i in [0,1]:\n",
    "        pdb_id = pdb_ids[i]\n",
    "        fn = pdbl.retrieve_pdb_file(pdb_id, file_format=\"mmCif\", pdir=\".\")        \n",
    "        s = parser.get_structure(pdb_id, fn)        \n",
    "        structures[i] = s\n",
    "        chains[i] = [x.id for x in s.get_chains() if chain_ids[0] is None or x.id == chain_ids[i] ]\n",
    "        print(chains[i])\n",
    "\n",
    "    aligner = Align.PairwiseAligner()\n",
    "    aligner.substitution_matrix = substitution_matrices.load(\"BLOSUM62\")\n",
    "    aligner.open_gap_score = -11\n",
    "    aligner.end_open_gap_score = -11\n",
    "    aligner.extend_gap_score = -1\n",
    "    aligner.end_extend_gap_score = -1\n",
    "\n",
    "    super_imposer = Bio.PDB.Superimposer()\n",
    "\n",
    "    min_rms = sys.float_info.max\n",
    "    min_atoms = None\n",
    "    print(chains)\n",
    "    for i in range(len(chains[0])):\n",
    "        for j in range(len(chains[1])):\n",
    "            res = [get_residues(structures[0], chains[0][i]), get_residues(structures[1], chains[1][j])]\n",
    "            seq = [get_sequence(res[0]), get_sequence(res[1])]      \n",
    "       \n",
    "            alns = aligner.align(seq[0], seq[1])\n",
    "\n",
    "            mapping = [[],[]]    \n",
    "            for range1, range2 in zip(alns[0].aligned[0], alns[0].aligned[1]):\n",
    "                mapping[0] += list(range(range1[0], range1[1]))\n",
    "                mapping[1] += list(range(range2[0], range2[1]))\n",
    "                \n",
    "            atoms = [[],[]]\n",
    "            for ix in range(2):        \n",
    "                for ix_ix in mapping[ix]:\n",
    "                    atoms[ix].append([a for a in res[ix][ix_ix].get_atoms() if a.get_name() == 'CA'][0])\n",
    "            \n",
    "            super_imposer.set_atoms(atoms[0], atoms[1])\n",
    "            super_imposer.apply(structures[1].get_atoms())\n",
    "            rms = super_imposer.rms\n",
    "            print(f\"RMSD of chains {chains[0][i]} and {chains[1][j]}: {rms}\")\n",
    "            if rms < min_rms:\n",
    "                min_rms = rms\n",
    "                min_atoms = [atoms[0], atoms[1]]\n",
    "            \n",
    "    super_imposer.set_atoms(min_atoms[0], min_atoms[1])\n",
    "    super_imposer.apply(structures[1].get_atoms())\n",
    "    \n",
    "    c1 = viewer.add_component(nv.BiopythonStructure(structures[0][0]))\n",
    "    c2 = viewer.add_component(nv.BiopythonStructure(structures[1][0]))\n",
    "\n",
    "    c1.clear_representations()\n",
    "    c1.add_representation('cartoon', color=\"blue\")\n",
    "    c2.clear_representations()\n",
    "    c2.add_representation('cartoon', color=\"red\")\n",
    "    \n",
    "        \n"
   ]
  },
  {
   "cell_type": "code",
   "execution_count": 13,
   "metadata": {
    "pycharm": {
     "name": "#%%\n"
    }
   },
   "outputs": [
    {
     "name": "stdout",
     "output_type": "stream",
     "text": [
      "Structure exists: '.\\4n58.cif' \n"
     ]
    },
    {
     "name": "stderr",
     "output_type": "stream",
     "text": [
      "c:\\Python39\\lib\\site-packages\\Bio\\PDB\\StructureBuilder.py:89: PDBConstructionWarning: WARNING: Chain A is discontinuous at line 4173.\n",
      "  warnings.warn(\n",
      "c:\\Python39\\lib\\site-packages\\Bio\\PDB\\StructureBuilder.py:89: PDBConstructionWarning: WARNING: Chain B is discontinuous at line 4356.\n",
      "  warnings.warn(\n",
      "c:\\Python39\\lib\\site-packages\\Bio\\PDB\\StructureBuilder.py:89: PDBConstructionWarning: WARNING: Chain A is discontinuous at line 4562.\n",
      "  warnings.warn(\n",
      "c:\\Python39\\lib\\site-packages\\Bio\\PDB\\StructureBuilder.py:89: PDBConstructionWarning: WARNING: Chain B is discontinuous at line 4792.\n",
      "  warnings.warn(\n"
     ]
    },
    {
     "name": "stdout",
     "output_type": "stream",
     "text": [
      "['B']\n",
      "Structure exists: '.\\4n59.cif' \n"
     ]
    },
    {
     "name": "stderr",
     "output_type": "stream",
     "text": [
      "c:\\Python39\\lib\\site-packages\\Bio\\PDB\\StructureBuilder.py:89: PDBConstructionWarning: WARNING: Chain A is discontinuous at line 4091.\n",
      "  warnings.warn(\n",
      "c:\\Python39\\lib\\site-packages\\Bio\\PDB\\StructureBuilder.py:89: PDBConstructionWarning: WARNING: Chain B is discontinuous at line 4106.\n",
      "  warnings.warn(\n",
      "c:\\Python39\\lib\\site-packages\\Bio\\PDB\\StructureBuilder.py:89: PDBConstructionWarning: WARNING: Chain A is discontinuous at line 4125.\n",
      "  warnings.warn(\n",
      "c:\\Python39\\lib\\site-packages\\Bio\\PDB\\StructureBuilder.py:89: PDBConstructionWarning: WARNING: Chain B is discontinuous at line 4151.\n",
      "  warnings.warn(\n"
     ]
    },
    {
     "name": "stdout",
     "output_type": "stream",
     "text": [
      "['B']\n",
      "[['B'], ['B']]\n",
      "RMSD of chains B and B: 10.563220557025248\n"
     ]
    },
    {
     "data": {
      "application/vnd.jupyter.widget-view+json": {
       "model_id": "3e083f3efca54a22858875dd4c3bbf1f",
       "version_major": 2,
       "version_minor": 0
      },
      "text/plain": [
       "NGLWidget()"
      ]
     },
     "metadata": {},
     "output_type": "display_data"
    }
   ],
   "source": [
    "\n",
    "v = nv.NGLWidget()\n",
    "    \n",
    "# superpose(pdb_ids=['7E2X', '6A94'], viewer=v)\n",
    "# superpose(pdb_ids=['4n58', '4n59'], viewer=v)\n",
    "superpose(pdb_ids=['4n58', '4n59'], viewer=v, chain_ids=['B', 'B'])\n",
    "v"
   ]
  },
  {
   "cell_type": "code",
   "execution_count": null,
   "metadata": {
    "pycharm": {
     "name": "#%%\n"
    }
   },
   "outputs": [],
   "source": []
  }
 ],
 "metadata": {
  "kernelspec": {
   "display_name": "Python 3",
   "language": "python",
   "name": "python3"
  },
  "language_info": {
   "codemirror_mode": {
    "name": "ipython",
    "version": 3
   },
   "file_extension": ".py",
   "mimetype": "text/x-python",
   "name": "python",
   "nbconvert_exporter": "python",
   "pygments_lexer": "ipython3",
   "version": "3.9.5"
  },
  "orig_nbformat": 4,
  "vscode": {
   "interpreter": {
    "hash": "81794d4967e6c3204c66dcd87b604927b115b27c00565d3d43f05ba2f3a2cb0d"
   }
  }
 },
 "nbformat": 4,
 "nbformat_minor": 2
}
